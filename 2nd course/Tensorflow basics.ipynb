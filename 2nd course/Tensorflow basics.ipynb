{
 "cells": [
  {
   "cell_type": "code",
   "execution_count": 1,
   "id": "5280433a",
   "metadata": {},
   "outputs": [],
   "source": [
    "import numpy as np \n",
    "import tensorflow as tf"
   ]
  },
  {
   "cell_type": "code",
   "execution_count": 20,
   "id": "d83d9506",
   "metadata": {},
   "outputs": [],
   "source": [
    "w = tf.Variable(0, dtype = tf.float32)\n",
    "# defining the weights with 0 "
   ]
  },
  {
   "cell_type": "code",
   "execution_count": 21,
   "id": "53fe4713",
   "metadata": {},
   "outputs": [],
   "source": [
    "optimizer = tf.keras.optimizers.Adam(0.1)   # this the learning rate of our model \n",
    "# optimizing algorithim we are using is adam (Gradient decent)"
   ]
  },
  {
   "cell_type": "code",
   "execution_count": 25,
   "id": "431abe41",
   "metadata": {},
   "outputs": [
    {
     "name": "stdout",
     "output_type": "stream",
     "text": [
      "<tf.Variable 'Variable:0' shape=() dtype=float32, numpy=0.0>\n"
     ]
    }
   ],
   "source": [
    "def train_step():\n",
    "    with tf.GradientTape() as tape:\n",
    "        cost = w**2 +10*w + 25 \n",
    "    trainable_variables = [w] # this is to carryout one iteration of training we define the trainable variables\n",
    "    grads = tape.gradient(cost , trainable_variables) # to compute the gradients with this \n",
    "    optimizer.apply_gradients(zip(cost , trainable_variables)) # the zip function just pairs them accordingly \n",
    "    # here we use the optimizing algo to find the best value of w which minimizes the cost function \n",
    "    return w\n",
    "print(w)\n",
    "\n",
    "\n",
    "# alternative of this code is available down"
   ]
  },
  {
   "cell_type": "code",
   "execution_count": 28,
   "id": "c0e41de9",
   "metadata": {},
   "outputs": [
    {
     "name": "stdout",
     "output_type": "stream",
     "text": [
      "<tf.Variable 'Variable:0' shape=() dtype=float32, numpy=0.0>\n"
     ]
    }
   ],
   "source": [
    "#train_step()  # this will make the the trainable_variable some what different than previous inorder to optimize the cost \n",
    "print(w) # we will have different value of w"
   ]
  },
  {
   "cell_type": "code",
   "execution_count": 29,
   "id": "7308db00",
   "metadata": {},
   "outputs": [],
   "source": [
    "w = tf.Variable(0, dtype = tf.float32)"
   ]
  },
  {
   "cell_type": "code",
   "execution_count": 30,
   "id": "6332ce49",
   "metadata": {},
   "outputs": [],
   "source": [
    "x = np.array([1.0,-10.0,25.0],dtype= np.float32)\n",
    "optimizer = tf.keras.optimizers.Adam(0.1)"
   ]
  },
  {
   "cell_type": "code",
   "execution_count": 32,
   "id": "aeea3f09",
   "metadata": {},
   "outputs": [],
   "source": [
    "def training(x,w,optimizer):\n",
    "    def cost_fc():\n",
    "        return  x[0]*w**2 + x[1]*w + x[2]\n",
    "    for i in range(1000):\n",
    "        optimizer.minimize(cost_fc,[w])\n",
    "    return w\n",
    "w_ = training(x,w,optimizer)"
   ]
  },
  {
   "cell_type": "code",
   "execution_count": 33,
   "id": "a1fe8e9d",
   "metadata": {},
   "outputs": [
    {
     "name": "stdout",
     "output_type": "stream",
     "text": [
      "<tf.Variable 'Variable:0' shape=() dtype=float32, numpy=5.000001>\n"
     ]
    }
   ],
   "source": [
    "print(w_) # here we can see that the value which minimizes the cos function is achieved "
   ]
  },
  {
   "cell_type": "code",
   "execution_count": null,
   "id": "2d3f31a9",
   "metadata": {},
   "outputs": [],
   "source": []
  }
 ],
 "metadata": {
  "kernelspec": {
   "display_name": "Python 3 (ipykernel)",
   "language": "python",
   "name": "python3"
  },
  "language_info": {
   "codemirror_mode": {
    "name": "ipython",
    "version": 3
   },
   "file_extension": ".py",
   "mimetype": "text/x-python",
   "name": "python",
   "nbconvert_exporter": "python",
   "pygments_lexer": "ipython3",
   "version": "3.10.0"
  }
 },
 "nbformat": 4,
 "nbformat_minor": 5
}
