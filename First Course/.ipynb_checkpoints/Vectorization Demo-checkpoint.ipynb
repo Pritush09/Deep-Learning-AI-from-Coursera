{
 "cells": [
  {
   "cell_type": "code",
   "execution_count": 1,
   "id": "ac5521ba",
   "metadata": {},
   "outputs": [],
   "source": [
    "import numpy as np\n",
    "import time"
   ]
  },
  {
   "cell_type": "code",
   "execution_count": 2,
   "id": "c97a872b",
   "metadata": {},
   "outputs": [],
   "source": [
    "num = np.array([1,2,3,4,5])"
   ]
  },
  {
   "cell_type": "code",
   "execution_count": 3,
   "id": "fd687a69",
   "metadata": {},
   "outputs": [],
   "source": [
    "A = np.random.rand(1000000)\n",
    "b = np.random.rand(1000000)"
   ]
  },
  {
   "cell_type": "code",
   "execution_count": 5,
   "id": "6ec0c999",
   "metadata": {},
   "outputs": [
    {
     "name": "stdout",
     "output_type": "stream",
     "text": [
      "250324.50407238345\n",
      "Vectorized Version 0.008003711700439453\n",
      "250324.50407239178\n",
      "Normal Form 0.8335049152374268\n"
     ]
    }
   ],
   "source": [
    "tic = time.time()\n",
    "c = np.dot(A,b)  # ye sirf dot product de raha he logistic me hamko khud transpose karke karna hoga\n",
    "toc = time.time()\n",
    "print(c)\n",
    "print('Vectorized Version '+ str(toc-tic))\n",
    "\n",
    "\n",
    "# in dono me hi sirf (w.x) nikal rahe he b alag se nikalna hoga\n",
    "\n",
    "\n",
    "v = 0 \n",
    "tic = time.time()\n",
    "for i in range(1000000):\n",
    "    v+= A[i] * b[i]\n",
    "toc = time.time()\n",
    "print(v)\n",
    "print(\"Normal Form \"+ str(toc-tic))"
   ]
  },
  {
   "cell_type": "code",
   "execution_count": null,
   "id": "8467d554",
   "metadata": {},
   "outputs": [],
   "source": []
  },
  {
   "cell_type": "code",
   "execution_count": null,
   "id": "45a49c17",
   "metadata": {},
   "outputs": [],
   "source": []
  }
 ],
 "metadata": {
  "kernelspec": {
   "display_name": "Python 3 (ipykernel)",
   "language": "python",
   "name": "python3"
  },
  "language_info": {
   "codemirror_mode": {
    "name": "ipython",
    "version": 3
   },
   "file_extension": ".py",
   "mimetype": "text/x-python",
   "name": "python",
   "nbconvert_exporter": "python",
   "pygments_lexer": "ipython3",
   "version": "3.10.0"
  }
 },
 "nbformat": 4,
 "nbformat_minor": 5
}
